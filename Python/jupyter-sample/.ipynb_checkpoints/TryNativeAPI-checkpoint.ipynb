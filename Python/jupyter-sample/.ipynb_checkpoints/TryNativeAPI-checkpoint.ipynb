{
 "cells": [
  {
   "cell_type": "markdown",
   "metadata": {},
   "source": [
    "# InterSystems IRIS の Native API for Python を使ってNetworkXのデータを作ってみよう！\n",
    "\n",
    "- [1] irisnative パッケージのインポート\n",
    "    - matplotlib と networkx もインポート\n",
    "- [2] IRISに接続＋IRISオブジェクトの作成\n",
    "- [3] データ（^Correlation）の作成\n",
    "- [4] [3]で設定した値の取得"
   ]
  },
  {
   "cell_type": "markdown",
   "metadata": {},
   "source": [
    "[1] irisnative パッケージのインポート\n",
    " - matplotlib と networkx もインポート"
   ]
  },
  {
   "cell_type": "code",
   "execution_count": null,
   "metadata": {},
   "outputs": [],
   "source": [
    "import irisnative\n",
    "import networkx as nx\n",
    "import matplotlib.pyplot as plt\n",
    "G=nx.DiGraph()"
   ]
  },
  {
   "cell_type": "markdown",
   "metadata": {},
   "source": [
    "関数を定義（登場人物の関係者を拾い出す）"
   ]
  },
  {
   "cell_type": "code",
   "execution_count": null,
   "metadata": {},
   "outputs": [],
   "source": [
    "def getCorrelation(source,graph,count):\n",
    "    if count>3:\n",
    "        return\n",
    "\n",
    "    #ラベル表示用のデータ取得\n",
    "    labellist[source]=iris_native.get(\"Correlation\",source)\n",
    "\n",
    "    iter = iris_native.iterator(\"Correlation\",source)\n",
    "    nodelist=[source for source in iter.subscripts() ]\n",
    "    edgelist=[(source,target) for target in nodelist]\n",
    "    graph.add_nodes_from(nodelist)\n",
    "    graph.add_edges_from(edgelist)\n",
    "\n",
    "    for target in nodelist:\n",
    "        #ラベル表示用のデータ取得\n",
    "        labellist[target]=iris_native.get(\"Correlation\",target)\n",
    "        getCorrelation(target,graph,count+1)"
   ]
  },
  {
   "cell_type": "markdown",
   "metadata": {},
   "source": [
    "[2] IRISに接続＋IRISオブジェクトの作成"
   ]
  },
  {
   "cell_type": "code",
   "execution_count": null,
   "metadata": {},
   "outputs": [],
   "source": [
    "connection = irisnative.createConnection(\"iris\",1972,\"user\",\"_system\",\"SYS\")\n",
    "iris_native = irisnative.createIris(connection)"
   ]
  },
  {
   "cell_type": "markdown",
   "metadata": {},
   "source": [
    "[3] 登場人物の登録\n",
    "\n",
    "networkxのラベル名が見易くなるように登場人物の説明に改行を入れています。\n",
    "\n",
    "＜IRIS側での設定例＞ set ^Correlation(\"Eren\")=\"主人公（エレン）"
   ]
  },
  {
   "cell_type": "code",
   "execution_count": null,
   "metadata": {},
   "outputs": [],
   "source": [
    "iris_native.set(\"主人公\\n（エレン）\",\"Correlation\",\"Eren\")\n",
    "iris_native.set(\"エレンの幼馴染\\n（アルミン）\",\"Correlation\",\"Armin\")\n",
    "iris_native.set(\"エレンの幼馴染\\n（ミカサ）\",\"Correlation\",\"Mikasa\")\n",
    "iris_native.set(\"エレンのお父さん\\n（グリシャ）\",\"Correlation\",\"Grisha\")\n",
    "iris_native.set(\"エレンの異母兄弟\\n（ジーク）\",\"Correlation\",\"Zeke\")\n",
    "iris_native.set(\"鎧の巨人\\n（ライナー）\",\"Correlation\",\"Reiner\")\n",
    "iris_native.set(\"超大型の巨人\\n（ベルトルト）\",\"Correlation\",\"Bertolt\")\n",
    "iris_native.set(\"エレンのお母さん（カルラ）\\nダイナに捕食\",\"Correlation\",\"Carla\")\n",
    "iris_native.set(\"ジークのお母さん（ダイナ）\\nレイス王家[フリッツ家]\",\"Correlation\",\"Dina\")\n",
    "iris_native.set(\"人類最強の兵士\\n（リヴァイ）\",\"Correlation\",\"Levi\")"
   ]
  },
  {
   "cell_type": "markdown",
   "metadata": {},
   "source": [
    "関係性を設定\n",
    "\n",
    "＜IRIS側での設定例＞ set ^Correlation(\"Eren\",\"Mikasa\")=\"\""
   ]
  },
  {
   "cell_type": "code",
   "execution_count": null,
   "metadata": {},
   "outputs": [],
   "source": [
    "iris_native.set(None,\"Correlation\",\"Eren\",\"Mikasa\")\n",
    "iris_native.set(None,\"Correlation\",\"Eren\",\"Armin\")\n",
    "iris_native.set(None,\"Correlation\",\"Armin\",\"Mikasa\")\n",
    "iris_native.set(None,\"Correlation\",\"Mikasa\",\"Armin\")\n",
    "iris_native.set(None,\"Correlation\",\"Armin\",\"Eren\")\n",
    "iris_native.set(None,\"Correlation\",\"Mikasa\",\"Eren\")\n",
    "iris_native.set(None,\"Correlation\",\"Grisha\",\"Eren\")\n",
    "iris_native.set(None,\"Correlation\",\"Grisha\",\"Zeke\")\n",
    "iris_native.set(None,\"Correlation\",\"Eren\",\"Zeke\")\n",
    "iris_native.set(None,\"Correlation\",\"Zeke\",\"Eren\")\n",
    "iris_native.set(None,\"Correlation\",\"Grisha\",\"Dina\")\n",
    "iris_native.set(None,\"Correlation\",\"Dina\",\"Grisha\")           \n",
    "iris_native.set(None,\"Correlation\",\"Grisha\",\"Carla\")\n",
    "iris_native.set(None,\"Correlation\",\"Carla\",\"Grisha\")\n",
    "iris_native.set(None,\"Correlation\",\"Dina\",\"Carla\")\n",
    "iris_native.set(None,\"Correlation\",\"Armin\",\"Bertolt\")\n",
    "iris_native.set(None,\"Correlation\",\"Reiner\",\"Bertolt\")\n",
    "iris_native.set(None,\"Correlation\",\"Bertolt\",\"Reiner\")\n",
    "iris_native.set(None,\"Correlation\",\"Levi\",\"Zeke\")"
   ]
  },
  {
   "cell_type": "markdown",
   "metadata": {},
   "source": [
    "[4] 全件取得"
   ]
  },
  {
   "cell_type": "code",
   "execution_count": null,
   "metadata": {},
   "outputs": [],
   "source": [
    "for source,value in iris_native.iterator(\"Correlation\"):\n",
    "    print(source,\"-\",value)\n",
    "\n",
    "    for target,value in iris_native.iterator(\"Correlation\",source):\n",
    "        print(\"  関係者：\",target)"
   ]
  },
  {
   "cell_type": "markdown",
   "metadata": {},
   "source": [
    "[5] 登場人物を特定して関係者取得"
   ]
  },
  {
   "cell_type": "code",
   "execution_count": null,
   "metadata": {},
   "outputs": [],
   "source": [
    "print(\"\\n******************************\")\n",
    "print(\"Leviに関連する人物を探します\")\n",
    "print(\"******************************\")\n",
    "#ラベル用辞書の初期化\n",
    "labellist={}\n",
    "#関係者を取得\n",
    "getCorrelation(\"Levi\",G,1)\n",
    "\n",
    "#nx.draw(G, labels=labellist,font_family='MS Gothic',font_size=10,\n",
    "nx.draw(G, labels=labellist,font_family='TakaoPGothic',font_size=10,\n",
    "            node_color=\"lightblue\",edge_color=\"lightblue\",node_size=2000)\n",
    "plt.show()"
   ]
  },
  {
   "cell_type": "markdown",
   "metadata": {},
   "source": [
    "[6]接続終了"
   ]
  },
  {
   "cell_type": "code",
   "execution_count": null,
   "metadata": {},
   "outputs": [],
   "source": [
    "connection.close()"
   ]
  }
 ],
 "metadata": {
  "kernelspec": {
   "display_name": "Python 3",
   "language": "python",
   "name": "python3"
  },
  "language_info": {
   "codemirror_mode": {
    "name": "ipython",
    "version": 3
   },
   "file_extension": ".py",
   "mimetype": "text/x-python",
   "name": "python",
   "nbconvert_exporter": "python",
   "pygments_lexer": "ipython3",
   "version": "3.8.8"
  }
 },
 "nbformat": 4,
 "nbformat_minor": 4
}
