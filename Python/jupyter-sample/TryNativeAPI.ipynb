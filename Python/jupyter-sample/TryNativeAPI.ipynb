{
 "cells": [
  {
   "cell_type": "markdown",
   "metadata": {},
   "source": [
    "# InterSystems IRIS の Native API for Python を使ってNetworkXのデータを作ってみよう！\n",
    "\n",
    "- [1] irisnative パッケージのインポート\n",
    "    - matplotlib と networkx もインポート\n",
    "- [2] IRISに接続＋IRISオブジェクトの作成\n",
    "- [3] データ（^Relation）の作成\n",
    "- [4] [3]で設定した値の取得"
   ]
  },
  {
   "cell_type": "markdown",
   "metadata": {},
   "source": [
    "[1] irisnative パッケージのインポート\n",
    " - matplotlib と networkx もインポート"
   ]
  },
  {
   "cell_type": "code",
   "execution_count": 1,
   "metadata": {},
   "outputs": [],
   "source": [
    "import irisnative\n",
    "import networkx as nx\n",
    "import matplotlib.pyplot as plt\n",
    "G=nx.DiGraph()"
   ]
  },
  {
   "cell_type": "markdown",
   "metadata": {},
   "source": [
    "関数を定義（登場人物の関係者を拾い出す）"
   ]
  },
  {
   "cell_type": "code",
   "execution_count": 2,
   "metadata": {},
   "outputs": [],
   "source": [
    "def getRelation(source,graph,count):\n",
    "    if count>3:\n",
    "        return\n",
    "\n",
    "    #ラベル表示用のデータ取得\n",
    "    labellist[source]=iris_native.get(\"Relation\",source)\n",
    "\n",
    "    iter = iris_native.iterator(\"Relation\",source)\n",
    "    nodelist=[source for source in iter.subscripts() ]\n",
    "    edgelist=[(source,target) for target in nodelist]\n",
    "    graph.add_nodes_from(nodelist)\n",
    "    graph.add_edges_from(edgelist)\n",
    "\n",
    "    for target in nodelist:\n",
    "        #ラベル表示用のデータ取得\n",
    "        labellist[target]=iris_native.get(\"Relation\",target)\n",
    "        getRelation(target,graph,count+1)"
   ]
  },
  {
   "cell_type": "markdown",
   "metadata": {},
   "source": [
    "[2] IRISに接続＋IRISオブジェクトの作成"
   ]
  },
  {
   "cell_type": "code",
   "execution_count": 3,
   "metadata": {},
   "outputs": [],
   "source": [
    "connection = irisnative.createConnection(\"iris\",1972,\"user\",\"_system\",\"SYS\")\n",
    "iris_native = irisnative.createIris(connection)"
   ]
  },
  {
   "cell_type": "markdown",
   "metadata": {},
   "source": [
    "[3] 登場人物の登録\n",
    "\n",
    "networkxのラベル名が見易くなるように登場人物の説明に改行を入れています。\n",
    "\n",
    "＜IRIS側での設定例＞ set ^Relation(\"Eren\")=\"主人公（エレン）"
   ]
  },
  {
   "cell_type": "code",
   "execution_count": 4,
   "metadata": {},
   "outputs": [],
   "source": [
    "iris_native.set(\"主人公\\n（エレン）\",\"Relation\",\"Eren\")\n",
    "iris_native.set(\"エレンの幼馴染\\n（アルミン）\",\"Relation\",\"Armin\")\n",
    "iris_native.set(\"エレンの幼馴染\\n（ミカサ）\",\"Relation\",\"Mikasa\")\n",
    "iris_native.set(\"エレンのお父さん\\n（グリシャ）\",\"Relation\",\"Grisha\")\n",
    "iris_native.set(\"エレンの異母兄弟\\n（ジーク）\",\"Relation\",\"Zeke\")\n",
    "iris_native.set(\"鎧の巨人\\n（ライナー）\",\"Relation\",\"Reiner\")\n",
    "iris_native.set(\"超大型の巨人\\n（ベルトルト）\",\"Relation\",\"Bertolt\")\n",
    "iris_native.set(\"エレンのお母さん（カルラ）\\nダイナに捕食\",\"Relation\",\"Carla\")\n",
    "iris_native.set(\"ジークのお母さん（ダイナ）\\nレイス王家[フリッツ家]\",\"Relation\",\"Dina\")\n",
    "iris_native.set(\"人類最強の兵士\\n（リヴァイ）\",\"Relation\",\"Levi\")"
   ]
  },
  {
   "cell_type": "markdown",
   "metadata": {},
   "source": [
    "関係性を設定\n",
    "\n",
    "＜IRIS側での設定例＞ set ^Relation(\"Eren\",\"Mikasa\")=\"\""
   ]
  },
  {
   "cell_type": "code",
   "execution_count": 5,
   "metadata": {},
   "outputs": [],
   "source": [
    "iris_native.set(None,\"Relation\",\"Eren\",\"Mikasa\")\n",
    "iris_native.set(None,\"Relation\",\"Eren\",\"Armin\")\n",
    "iris_native.set(None,\"Relation\",\"Armin\",\"Mikasa\")\n",
    "iris_native.set(None,\"Relation\",\"Mikasa\",\"Armin\")\n",
    "iris_native.set(None,\"Relation\",\"Armin\",\"Eren\")\n",
    "iris_native.set(None,\"Relation\",\"Mikasa\",\"Eren\")\n",
    "iris_native.set(None,\"Relation\",\"Grisha\",\"Eren\")\n",
    "iris_native.set(None,\"Relation\",\"Grisha\",\"Zeke\")\n",
    "iris_native.set(None,\"Relation\",\"Eren\",\"Zeke\")\n",
    "iris_native.set(None,\"Relation\",\"Zeke\",\"Eren\")\n",
    "iris_native.set(None,\"Relation\",\"Grisha\",\"Dina\")\n",
    "iris_native.set(None,\"Relation\",\"Dina\",\"Grisha\")           \n",
    "iris_native.set(None,\"Relation\",\"Grisha\",\"Carla\")\n",
    "iris_native.set(None,\"Relation\",\"Carla\",\"Grisha\")\n",
    "iris_native.set(None,\"Relation\",\"Dina\",\"Carla\")\n",
    "iris_native.set(None,\"Relation\",\"Armin\",\"Bertolt\")\n",
    "iris_native.set(None,\"Relation\",\"Reiner\",\"Bertolt\")\n",
    "iris_native.set(None,\"Relation\",\"Bertolt\",\"Reiner\")\n",
    "iris_native.set(None,\"Relation\",\"Levi\",\"Zeke\")"
   ]
  },
  {
   "cell_type": "markdown",
   "metadata": {},
   "source": [
    "[4] 全件取得"
   ]
  },
  {
   "cell_type": "code",
   "execution_count": 6,
   "metadata": {},
   "outputs": [
    {
     "name": "stdout",
     "output_type": "stream",
     "text": [
      "Armin - エレンの幼馴染\n",
      "（アルミン）\n",
      "  関係者： Bertolt\n",
      "  関係者： Eren\n",
      "  関係者： Mikasa\n",
      "Bertolt - 超大型の巨人\n",
      "（ベルトルト）\n",
      "  関係者： Reiner\n",
      "Carla - エレンのお母さん（カルラ）\n",
      "ダイナに捕食\n",
      "  関係者： Grisha\n",
      "Dina - ジークのお母さん（ダイナ）\n",
      "レイス王家[フリッツ家]\n",
      "  関係者： Carla\n",
      "  関係者： Grisha\n",
      "Eren - 主人公\n",
      "（エレン）\n",
      "  関係者： Armin\n",
      "  関係者： Mikasa\n",
      "  関係者： Zeke\n",
      "Grisha - エレンのお父さん\n",
      "（グリシャ）\n",
      "  関係者： Carla\n",
      "  関係者： Dina\n",
      "  関係者： Eren\n",
      "  関係者： Zeke\n",
      "Levi - 人類最強の兵士\n",
      "（リヴァイ）\n",
      "  関係者： Zeke\n",
      "Mikasa - エレンの幼馴染\n",
      "（ミカサ）\n",
      "  関係者： Armin\n",
      "  関係者： Eren\n",
      "Reiner - 鎧の巨人\n",
      "（ライナー）\n",
      "  関係者： Bertolt\n",
      "Zeke - エレンの異母兄弟\n",
      "（ジーク）\n",
      "  関係者： Eren\n"
     ]
    }
   ],
   "source": [
    "for source,value in iris_native.iterator(\"Relation\"):\n",
    "    print(source,\"-\",value)\n",
    "\n",
    "    for target,value in iris_native.iterator(\"Relation\",source):\n",
    "        print(\"  関係者：\",target)"
   ]
  },
  {
   "cell_type": "markdown",
   "metadata": {},
   "source": [
    "[5] 登場人物を特定して関係者取得"
   ]
  },
  {
   "cell_type": "code",
   "execution_count": 7,
   "metadata": {},
   "outputs": [
    {
     "name": "stdout",
     "output_type": "stream",
     "text": [
      "\n",
      "******************************\n",
      "Leviに関連する人物を探します\n",
      "******************************\n"
     ]
    },
    {
     "data": {
      "image/png": "[encoded data removed]",
      "text/plain": [
       "<Figure size 432x288 with 1 Axes>"
      ]
     },
     "metadata": {},
     "output_type": "display_data"
    }
   ],
   "source": [
    "print(\"\\n******************************\")\n",
    "print(\"Leviに関連する人物を探します\")\n",
    "print(\"******************************\")\n",
    "#ラベル用辞書の初期化\n",
    "labellist={}\n",
    "#関係者を取得\n",
    "getRelation(\"Levi\",G,1)\n",
    "\n",
    "#nx.draw(G, labels=labellist,font_family='MS Gothic',font_size=10,\n",
    "nx.draw(G, labels=labellist,font_family='TakaoPGothic',font_size=10,\n",
    "            node_color=\"lightblue\",edge_color=\"lightblue\",node_size=2000)\n",
    "plt.show()"
   ]
  },
  {
   "cell_type": "markdown",
   "metadata": {},
   "source": [
    "[6]接続終了"
   ]
  },
  {
   "cell_type": "code",
   "execution_count": 8,
   "metadata": {},
   "outputs": [],
   "source": [
    "connection.close()"
   ]
  },
  {
   "cell_type": "code",
   "execution_count": null,
   "metadata": {},
   "outputs": [],
   "source": []
  }
 ],
 "metadata": {
  "kernelspec": {
   "display_name": "Python 3",
   "language": "python",
   "name": "python3"
  },
  "language_info": {
   "codemirror_mode": {
    "name": "ipython",
    "version": 3
   },
   "file_extension": ".py",
   "mimetype": "text/x-python",
   "name": "python",
   "nbconvert_exporter": "python",
   "pygments_lexer": "ipython3",
   "version": "3.8.8"
  }
 },
 "nbformat": 4,
 "nbformat_minor": 4
}
